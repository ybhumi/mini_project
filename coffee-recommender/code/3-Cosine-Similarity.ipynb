{
 "cells": [
  {
   "cell_type": "markdown",
   "metadata": {},
   "source": [
    "# Cosine Similarity"
   ]
  },
  {
   "cell_type": "markdown",
   "metadata": {},
   "source": [
    "The final decision of our recommender system: In this notebook, we will select which features of the coffee to compare, transform them, and implement different recommender systems."
   ]
  },
  {
   "cell_type": "code",
   "execution_count": 1,
   "metadata": {},
   "outputs": [],
   "source": [
    "import pandas as pd\n",
    "from scipy import sparse\n",
    "from sklearn.feature_extraction.text import TfidfVectorizer\n",
    "from sklearn.decomposition import TruncatedSVD, PCA\n",
    "from sklearn.preprocessing import StandardScaler\n",
    "from sklearn.metrics.pairwise import pairwise_distances\n",
    "import numpy as np"
   ]
  },
  {
   "cell_type": "code",
   "execution_count": 2,
   "metadata": {},
   "outputs": [],
   "source": [
    "coffee_df = pd.read_csv('../data/coffee_clean.csv')\n",
    "name_df = pd.read_csv('../data/coffee_id.csv')"
   ]
  },
  {
   "cell_type": "markdown",
   "metadata": {},
   "source": [
    "## Filter Function"
   ]
  },
  {
   "cell_type": "code",
   "execution_count": 3,
   "metadata": {},
   "outputs": [],
   "source": [
    "def set_filter(input_slug, filter_on = None, coffees = coffee_df, names = name_df):\n",
    "    try: \n",
    "        #filter datframes in relation to filtern term\n",
    "        filtered_coffees = coffees[coffees[filter_on] == 1]\n",
    "        filtered_names = names.merge(filtered_coffees,on='slug',right_index=True)[names.columns]\n",
    "        filtered_slugs = coffees[coffees[filter_on] == 1]['slug']\n",
    "        \n",
    "        if input_slug not in list(filtered_slugs):\n",
    "            #add coffee of interest to dataframe, if not part of filter\n",
    "            filtered_coffees = filtered_coffees.append(coffees[coffees['slug'] == input_slug]).sort_index()\n",
    "            filtered_names = filtered_names.append(names[names['slug'] == input_slug]).sort_index()\n",
    "            filtered_slugs = filtered_slugs.append(coffees[coffees['slug'] == input_slug]['slug']).sort_index()\n",
    "            \n",
    "            \n",
    "        #return dataframe of filtered coffees, filtered names, and the filtered id slugs\n",
    "        return (filtered_coffees, filtered_names, filtered_slugs)\n",
    "\n",
    "    except (KeyError, TypeError) as e:\n",
    "        print(f\"Sorry {e} is not a valid filter\")\n",
    "        pass"
   ]
  },
  {
   "cell_type": "markdown",
   "metadata": {},
   "source": [
    "Called from the `get_recommendations()` function, this function returns passed dataframes with the applied filter."
   ]
  },
  {
   "cell_type": "markdown",
   "metadata": {},
   "source": [
    "## Feature-based Recommender Function"
   ]
  },
  {
   "cell_type": "markdown",
   "metadata": {},
   "source": [
    "Called from the `get_recommendations()` function, this function returns a dataframe of cosine similarities based on coffee features, (roast, rating, type, region). It also returns the scaled data to use when using a combination system."
   ]
  },
  {
   "cell_type": "code",
   "execution_count": 4,
   "metadata": {},
   "outputs": [],
   "source": [
    "def features_rec(coffees,slugs):\n",
    "\n",
    "    ss = StandardScaler()\n",
    "    ss_fitted = ss.fit_transform(coffees)\n",
    "    \n",
    "    pca = PCA(n_components=5)\n",
    "    pca_fitted = pca.fit_transform(ss_fitted)\n",
    "    \n",
    "    #calculate cosine similarities and create dataframe of all similarities\n",
    "    features_recommender = pairwise_distances(pca_fitted, metric='cosine')\n",
    "    features_recommender_df = pd.DataFrame(features_recommender, index = slugs, columns = slugs)\n",
    "    \n",
    "    #return dataframe of similarities and the scaled dataframe.\n",
    "    return (features_recommender_df,pca_fitted)"
   ]
  },
  {
   "cell_type": "markdown",
   "metadata": {},
   "source": [
    "Numerical features are scaled, then transformed through PCA--reducing the number of components from 25 to 5. This is done in order to reduce the dimensions"
   ]
  },
  {
   "cell_type": "markdown",
   "metadata": {},
   "source": [
    "## Text/Description-Based Recommender Function"
   ]
  },
  {
   "cell_type": "code",
   "execution_count": 5,
   "metadata": {},
   "outputs": [],
   "source": [
    "def text_rec(coffees,slugs):\n",
    "\n",
    "    tfidf = TfidfVectorizer(min_df=2, ngram_range=(2,4),max_features=10000)\n",
    "    tfidf_fitted = tfidf.fit_transform(coffees)\n",
    "\n",
    "    #TruncatedSVD transformation, number of components\n",
    "    tsvd = TruncatedSVD(n_components=150,random_state=36)\n",
    "    tsvd_fitted = tsvd.fit_transform(tfidf_fitted)\n",
    "\n",
    "    #calculate cosine similarities and create dataframe of all similarities\n",
    "    text_recommender = pairwise_distances(tsvd_fitted, metric='cosine')\n",
    "    text_recommender_df = pd.DataFrame(text_recommender, index = slugs, columns = slugs)\n",
    "    \n",
    "    return (text_recommender_df, tsvd_fitted)"
   ]
  },
  {
   "cell_type": "markdown",
   "metadata": {},
   "source": [
    "Called from the `get_recommendations()` function, this function returns a dataframe of cosine similarities based on coffee descriptions. It also returns the TruncatedSVD vectors to use when using a combination system."
   ]
  },
  {
   "cell_type": "markdown",
   "metadata": {},
   "source": [
    "## Function to Get Recommendations:"
   ]
  },
  {
   "cell_type": "code",
   "execution_count": 6,
   "metadata": {},
   "outputs": [],
   "source": [
    "def get_recommendations(input_slug, coffees, names, features,\n",
    "                        pick_best = None, n_nearest = 10,\n",
    "                        how = 'combination', filter_on = None):\n",
    "    '''\n",
    "    Prints coffee recommendation.\n",
    "\n",
    "    input_slug: {string} Slug of coffee to make comparisons with\n",
    "    rec_df: DataFrame of recommendations with cosine similarities\n",
    "    names_df: DataFrame of coffee slugs, name, and roaster\n",
    "    pick_best: {boolean} Picks the highest rated coffee of the 'n_nearest' most similar coffees.\n",
    "    n_nearest: {int} Number of coffees to compare the coffees to (when pick_best = True)\n",
    "    how: {string} 'text','features', or 'combination'\n",
    "    set_filter: {string}, name of region, type, or roast\n",
    "    '''\n",
    "        \n",
    "    input_name = names[names['slug'] == input_slug]['name'].to_string(index = False)\n",
    "    input_roaster = names[names['slug'] == input_slug]['roaster'].to_string(index = False)\n",
    "    slugs = names['slug']\n",
    "    recommender = None\n",
    "    \n",
    "    if filter_on != None:\n",
    "        print(\"*Filtering on {}*\".format(filter_on))\n",
    "        coffees, names, slugs = set_filter(input_slug, filter_on = filter_on, coffees = coffees, names = names)\n",
    "\n",
    "    if how == 'features':\n",
    "        print(\"*Choosing recommendation based on ratings, roast, and type*\")\n",
    "        recommender = features_rec(coffees[features],slugs)[0]\n",
    "    elif how == 'text':\n",
    "        print(\"*Choosing recommendation based on text descriptions*\")\n",
    "        recommender = text_rec(coffees['clean_text'],slugs)[0]\n",
    "    elif how == 'combination':\n",
    "        print(\"*Choosing recommendation based on everything*\")\n",
    "        joined = np.concatenate((features_rec(coffees[features],slugs)[1],\n",
    "                                 text_rec(coffees['clean_text'],slugs)[1],), axis=1)\n",
    "        distances = pairwise_distances(joined, metric='cosine')\n",
    "        recommender = pd.DataFrame(distances, index = slugs, columns = slugs)\n",
    "    else:\n",
    "        return print(\"Sorry that is not a valid recommendation method\")\n",
    "\n",
    "    sims = names.join(recommender[input_slug], how='outer', on='slug')\n",
    "    sorted_sims = sims.drop(sims[sims['slug'] == input_slug].index).sort_values(by = input_slug)\n",
    "    \n",
    "    if pick_best:\n",
    "        print(\"*Recommending the highest rated coffee out of the\", n_nearest, \"most similar coffees*\")\n",
    "        recs = sorted_sims[0:n_nearest].sort_values(by='rating', ascending=False).iloc[0]\n",
    "    else:\n",
    "        print(\"*Recommending the most similar coffee*\")\n",
    "        recs = sorted_sims.iloc[0]\n",
    "    \n",
    "    print(\"If you like \" + input_name + \" by \" + input_roaster +\n",
    "         \", you might also like \" + recs['name'] + \" by \" + recs['roaster'] + \".\")\n",
    "    print(\"\\nCompare for yourself:\\n\",\n",
    "         \"https://www.coffeereview.com/review/\" + input_slug,\n",
    "         \"\\n https://www.coffeereview.com/review/\" + recs['slug'])\n",
    "    print(\"\\nCosine Similarity Index: \", round(recs.loc[input_slug],3))"
   ]
  },
  {
   "cell_type": "markdown",
   "metadata": {},
   "source": [
    "#### Note on Combination Recommender:"
   ]
  },
  {
   "cell_type": "markdown",
   "metadata": {},
   "source": [
    "We have 150 components from our text data and 5 categorical and numerical features.  \n",
    "Our combination recommender's similarity is based ~97% of text, and ~3% of categorical and numerical features.  \n",
    "This ratio can be adjusted by changing the number of features associated with each recommender."
   ]
  },
  {
   "cell_type": "markdown",
   "metadata": {},
   "source": [
    "This final function takes in a variety arguments and outputs a recommendation for the user. "
   ]
  },
  {
   "cell_type": "markdown",
   "metadata": {},
   "source": [
    "### Feature selection\n",
    "- Selecting all features:"
   ]
  },
  {
   "cell_type": "code",
   "execution_count": 7,
   "metadata": {},
   "outputs": [],
   "source": [
    "regions = ['region_africa_arabia', 'region_caribbean', 'region_central_america', \n",
    "           'region_hawaii', 'region_asia_pacific', 'region_south_america']\n",
    "types = ['type_espresso', 'type_organic', 'type_fair_trade', \n",
    "         'type_decaffeinated', 'type_pod_capsule', 'type_blend', 'type_estate']\n",
    "roasts = ['roast_dark', 'roast_light', 'roast_medium', 'roast_medium_dark',\n",
    "       'roast_medium_light', 'roast_very_dark', 'roast_nan']\n",
    "features = ['aroma','acid_or_milk','body','flavor','type_with_milk'] + roasts + types + regions"
   ]
  },
  {
   "cell_type": "markdown",
   "metadata": {},
   "source": [
    "### Test output recommendations"
   ]
  },
  {
   "cell_type": "code",
   "execution_count": 8,
   "metadata": {},
   "outputs": [],
   "source": [
    "#select a random coffee to test recommender system\n",
    "test_slug = np.random.choice(coffee_df['slug'])"
   ]
  },
  {
   "cell_type": "code",
   "execution_count": 9,
   "metadata": {
    "scrolled": true
   },
   "outputs": [],
   "source": [
    "#select random arguments for testing\n",
    "n = np.random.randint(5,15)\n",
    "best_rating = np.random.choice([True,False])\n",
    "method = np.random.choice(['text','features','combination'])\n",
    "filter_option = np.random.choice(regions+types+roasts)"
   ]
  },
  {
   "cell_type": "code",
   "execution_count": 10,
   "metadata": {},
   "outputs": [
    {
     "name": "stdout",
     "output_type": "stream",
     "text": [
      "*Choosing recommendation based on text descriptions*\n",
      "*Recommending the most similar coffee*\n",
      "If you like Mandheling Onan Ganjang by Kakalove Cafe, you might also like Ethiopia Natural Yirgacheffe Adado by Kakalove Cafe.\n",
      "\n",
      "Compare for yourself:\n",
      " https://www.coffeereview.com/review/mandheling-onan-ganjang \n",
      " https://www.coffeereview.com/review/ethiopia-natural-yirgacheffe-adado\n",
      "\n",
      "Cosine Similarity Index:  0.514\n"
     ]
    }
   ],
   "source": [
    "#call function with arguments\n",
    "get_recommendations(test_slug, coffee_df, name_df, features, \n",
    "                    pick_best = False, n_nearest = n, \n",
    "                    how = 'text', \n",
    "                    filter_on = None)"
   ]
  },
  {
   "cell_type": "code",
   "execution_count": null,
   "metadata": {},
   "outputs": [],
   "source": []
  }
 ],
 "metadata": {
  "kernelspec": {
   "display_name": "Python [default]",
   "language": "python",
   "name": "python3"
  },
  "language_info": {
   "codemirror_mode": {
    "name": "ipython",
    "version": 3
   },
   "file_extension": ".py",
   "mimetype": "text/x-python",
   "name": "python",
   "nbconvert_exporter": "python",
   "pygments_lexer": "ipython3",
   "version": "3.6.5"
  }
 },
 "nbformat": 4,
 "nbformat_minor": 2
}
